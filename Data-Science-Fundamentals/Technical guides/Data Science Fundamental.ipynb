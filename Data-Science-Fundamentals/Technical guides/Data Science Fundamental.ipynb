{
 "cells": [
  {
   "cell_type": "markdown",
   "id": "aae0e74c",
   "metadata": {},
   "source": [
    "![logo](https://www.sudeep.co/images/post_images/2018-02-09-Understanding-the-Data-Science-Lifecycle/chart.png)"
   ]
  },
  {
   "cell_type": "markdown",
   "id": "df6d4639",
   "metadata": {},
   "source": [
    "## Table of Content\n",
    "1. [Introduction](#1.0)\n",
    "2. [Loading Data and Some Basic Operations](#2.0)\n",
    "3. [Descriptive Analysis](#3.0)\n",
    "    1. [Measures of Central Tendency](#3.1)\n",
    "    2. [Measures of Dispersion](#3.2)\n",
    "4. [Data Exploration](#4.0)\n",
    "    1. [Univariate Analysis: Continuous Variables](#4.1)\n",
    "        1. [Percentile](#4.1.1)\n",
    "        2. [Interquartile range (IQR)](#4.1.2)\n",
    "        3. [Boxplots](#4.1.3)\n",
    "        4. [Frequency Table](#4.1.4)\n",
    "        5. [Histogram](#4.1.5)\n",
    "        6. [Density Plots and Estimates](#4.1.6)\n",
    "    2. [Univariate Analysis: Binary and Categorical Variables](#4.2)\n",
    "        1. [Mode](#4.2.1)\n",
    "        2. [Bar Plot](#4.2.2)    \n",
    "    3. [Multivariate  Analysis: Continuous Variables vs Categorical Variables](#4.3)\n",
    "        1. [Correlation and Correlation Matrix](#4.3.1)\n",
    "        2. [Scatterplots](#4.3.2)\n",
    "    4. [Multivariate  Analysis: Categorical Variables vs Continuous Variables](#4.4)\n",
    "        1. [Contingency table](#4.4.1)\n",
    "        2. [Side by Side Barplot](#4.4.2)\n",
    "    5. [Multivariate  Analysis: Categorical vs Continuous Variables](#4.5)\n",
    "        1. [Side by Side Boxplot](#4.5.1)\n",
    "        2. [Violin Plot](#4.5.2)\n",
    "    6. [Multivariate  Analysis: Multiple Categorical vs Continuous Variables](#4.6)\n",
    "        1. [Facet Grid](#4.6.1)\n",
    "        2. [Side by Side Histogram](#4.6.2)\n",
    "5. [References](#5.0)"
   ]
  },
  {
   "cell_type": "markdown",
   "id": "34ed2d8d",
   "metadata": {},
   "source": [
    "## Introduction <a name=\"1.0\"></a>\n",
    "In this tutorial, we will learn to use descriptive statistics to analyse our datesets and perform various data exploration techniques on our datasets based on variable type.\n",
    "\n",
    "By the end of the notebook, you should have learned:\n",
    "1. How to load data and do some basic operations.\n",
    "2. How to perform various descriptive statistics.\n",
    "3. How to make data exploration according to the types of variable and how to interpret it."
   ]
  },
  {
   "cell_type": "markdown",
   "id": "a2171d75",
   "metadata": {},
   "source": [
    "#### Importing necessary libraries"
   ]
  },
  {
   "cell_type": "code",
   "execution_count": 124,
   "id": "4fa008ab",
   "metadata": {},
   "outputs": [],
   "source": [
    "# Data wrangling and analysis\n",
    "import pandas as pd\n",
    "import numpy as np\n",
    "import seaborn as sns\n",
    "import matplotlib.pyplot as plt\n",
    "\n",
    "# Visualization\n",
    "%matplotlib inline"
   ]
  },
  {
   "cell_type": "markdown",
   "id": "cbf344dc",
   "metadata": {},
   "source": [
    "## Loading Data and Some Basic Operations <a name=\"2.0\"></a>"
   ]
  },
  {
   "cell_type": "code",
   "execution_count": 125,
   "id": "6eacad47",
   "metadata": {},
   "outputs": [],
   "source": [
    "# loading structured data into dataframe\n",
    "df = pd.read_csv(\"data/StudentsPerformance.csv\")"
   ]
  },
  {
   "cell_type": "code",
   "execution_count": 126,
   "id": "ff017098",
   "metadata": {},
   "outputs": [
    {
     "data": {
      "text/html": [
       "<div>\n",
       "<style scoped>\n",
       "    .dataframe tbody tr th:only-of-type {\n",
       "        vertical-align: middle;\n",
       "    }\n",
       "\n",
       "    .dataframe tbody tr th {\n",
       "        vertical-align: top;\n",
       "    }\n",
       "\n",
       "    .dataframe thead th {\n",
       "        text-align: right;\n",
       "    }\n",
       "</style>\n",
       "<table border=\"1\" class=\"dataframe\">\n",
       "  <thead>\n",
       "    <tr style=\"text-align: right;\">\n",
       "      <th></th>\n",
       "      <th>gender</th>\n",
       "      <th>race/ethnicity</th>\n",
       "      <th>parental level of education</th>\n",
       "      <th>lunch</th>\n",
       "      <th>test preparation course</th>\n",
       "      <th>math score</th>\n",
       "      <th>reading score</th>\n",
       "      <th>writing score</th>\n",
       "    </tr>\n",
       "  </thead>\n",
       "  <tbody>\n",
       "    <tr>\n",
       "      <th>0</th>\n",
       "      <td>female</td>\n",
       "      <td>group B</td>\n",
       "      <td>bachelor's degree</td>\n",
       "      <td>standard</td>\n",
       "      <td>none</td>\n",
       "      <td>72</td>\n",
       "      <td>72</td>\n",
       "      <td>74</td>\n",
       "    </tr>\n",
       "    <tr>\n",
       "      <th>1</th>\n",
       "      <td>female</td>\n",
       "      <td>group C</td>\n",
       "      <td>some college</td>\n",
       "      <td>standard</td>\n",
       "      <td>completed</td>\n",
       "      <td>69</td>\n",
       "      <td>90</td>\n",
       "      <td>88</td>\n",
       "    </tr>\n",
       "    <tr>\n",
       "      <th>2</th>\n",
       "      <td>female</td>\n",
       "      <td>group B</td>\n",
       "      <td>master's degree</td>\n",
       "      <td>standard</td>\n",
       "      <td>none</td>\n",
       "      <td>90</td>\n",
       "      <td>95</td>\n",
       "      <td>93</td>\n",
       "    </tr>\n",
       "    <tr>\n",
       "      <th>3</th>\n",
       "      <td>male</td>\n",
       "      <td>group A</td>\n",
       "      <td>associate's degree</td>\n",
       "      <td>free/reduced</td>\n",
       "      <td>none</td>\n",
       "      <td>47</td>\n",
       "      <td>57</td>\n",
       "      <td>44</td>\n",
       "    </tr>\n",
       "    <tr>\n",
       "      <th>4</th>\n",
       "      <td>male</td>\n",
       "      <td>group C</td>\n",
       "      <td>some college</td>\n",
       "      <td>standard</td>\n",
       "      <td>none</td>\n",
       "      <td>76</td>\n",
       "      <td>78</td>\n",
       "      <td>75</td>\n",
       "    </tr>\n",
       "  </tbody>\n",
       "</table>\n",
       "</div>"
      ],
      "text/plain": [
       "   gender race/ethnicity parental level of education         lunch  \\\n",
       "0  female        group B           bachelor's degree      standard   \n",
       "1  female        group C                some college      standard   \n",
       "2  female        group B             master's degree      standard   \n",
       "3    male        group A          associate's degree  free/reduced   \n",
       "4    male        group C                some college      standard   \n",
       "\n",
       "  test preparation course  math score  reading score  writing score  \n",
       "0                    none          72             72             74  \n",
       "1               completed          69             90             88  \n",
       "2                    none          90             95             93  \n",
       "3                    none          47             57             44  \n",
       "4                    none          76             78             75  "
      ]
     },
     "execution_count": 126,
     "metadata": {},
     "output_type": "execute_result"
    }
   ],
   "source": [
    "df.head()"
   ]
  },
  {
   "cell_type": "markdown",
   "id": "d2d54643",
   "metadata": {},
   "source": [
    "The data is about the marks secured by the high school students (with a variety of personal, social, and economic factors) from the United States.\n",
    "\n",
    "`data.head()` shows the first few rows of data (5 rows by default). It enables us to quickly test if our dataset has the correct data in it."
   ]
  },
  {
   "cell_type": "code",
   "execution_count": 127,
   "id": "0f402613",
   "metadata": {},
   "outputs": [
    {
     "data": {
      "text/plain": [
       "(1000, 8)"
      ]
     },
     "execution_count": 127,
     "metadata": {},
     "output_type": "execute_result"
    }
   ],
   "source": [
    "df.shape"
   ]
  },
  {
   "cell_type": "markdown",
   "id": "3a94e3d5",
   "metadata": {},
   "source": [
    "`data.shape` shows the format of the DataFrame by returning number or records/observation and columns/features ."
   ]
  },
  {
   "cell_type": "code",
   "execution_count": 128,
   "id": "3b1390c5",
   "metadata": {},
   "outputs": [
    {
     "data": {
      "text/html": [
       "<div>\n",
       "<style scoped>\n",
       "    .dataframe tbody tr th:only-of-type {\n",
       "        vertical-align: middle;\n",
       "    }\n",
       "\n",
       "    .dataframe tbody tr th {\n",
       "        vertical-align: top;\n",
       "    }\n",
       "\n",
       "    .dataframe thead th {\n",
       "        text-align: right;\n",
       "    }\n",
       "</style>\n",
       "<table border=\"1\" class=\"dataframe\">\n",
       "  <thead>\n",
       "    <tr style=\"text-align: right;\">\n",
       "      <th></th>\n",
       "      <th>math score</th>\n",
       "      <th>reading score</th>\n",
       "      <th>writing score</th>\n",
       "    </tr>\n",
       "  </thead>\n",
       "  <tbody>\n",
       "    <tr>\n",
       "      <th>count</th>\n",
       "      <td>1000.00000</td>\n",
       "      <td>1000.000000</td>\n",
       "      <td>1000.000000</td>\n",
       "    </tr>\n",
       "    <tr>\n",
       "      <th>mean</th>\n",
       "      <td>66.08900</td>\n",
       "      <td>69.169000</td>\n",
       "      <td>68.054000</td>\n",
       "    </tr>\n",
       "    <tr>\n",
       "      <th>std</th>\n",
       "      <td>15.16308</td>\n",
       "      <td>14.600192</td>\n",
       "      <td>15.195657</td>\n",
       "    </tr>\n",
       "    <tr>\n",
       "      <th>min</th>\n",
       "      <td>0.00000</td>\n",
       "      <td>17.000000</td>\n",
       "      <td>10.000000</td>\n",
       "    </tr>\n",
       "    <tr>\n",
       "      <th>25%</th>\n",
       "      <td>57.00000</td>\n",
       "      <td>59.000000</td>\n",
       "      <td>57.750000</td>\n",
       "    </tr>\n",
       "    <tr>\n",
       "      <th>50%</th>\n",
       "      <td>66.00000</td>\n",
       "      <td>70.000000</td>\n",
       "      <td>69.000000</td>\n",
       "    </tr>\n",
       "    <tr>\n",
       "      <th>75%</th>\n",
       "      <td>77.00000</td>\n",
       "      <td>79.000000</td>\n",
       "      <td>79.000000</td>\n",
       "    </tr>\n",
       "    <tr>\n",
       "      <th>max</th>\n",
       "      <td>100.00000</td>\n",
       "      <td>100.000000</td>\n",
       "      <td>100.000000</td>\n",
       "    </tr>\n",
       "  </tbody>\n",
       "</table>\n",
       "</div>"
      ],
      "text/plain": [
       "       math score  reading score  writing score\n",
       "count  1000.00000    1000.000000    1000.000000\n",
       "mean     66.08900      69.169000      68.054000\n",
       "std      15.16308      14.600192      15.195657\n",
       "min       0.00000      17.000000      10.000000\n",
       "25%      57.00000      59.000000      57.750000\n",
       "50%      66.00000      70.000000      69.000000\n",
       "75%      77.00000      79.000000      79.000000\n",
       "max     100.00000     100.000000     100.000000"
      ]
     },
     "execution_count": 128,
     "metadata": {},
     "output_type": "execute_result"
    }
   ],
   "source": [
    "df.describe()"
   ]
  },
  {
   "cell_type": "markdown",
   "id": "a2e24e5e",
   "metadata": {},
   "source": [
    "`data.describe()` shows a **basic descriptive analysis** (for numerical variables). It can be used to spot some obvious outliers. For example, if the `max` for `math score` is 1000, we can know that it is an outlier due to data error and need to be handled such as removing the entire record."
   ]
  },
  {
   "cell_type": "code",
   "execution_count": 129,
   "id": "b041c916",
   "metadata": {},
   "outputs": [
    {
     "name": "stdout",
     "output_type": "stream",
     "text": [
      "<class 'pandas.core.frame.DataFrame'>\n",
      "RangeIndex: 1000 entries, 0 to 999\n",
      "Data columns (total 8 columns):\n",
      " #   Column                       Non-Null Count  Dtype \n",
      "---  ------                       --------------  ----- \n",
      " 0   gender                       1000 non-null   object\n",
      " 1   race/ethnicity               1000 non-null   object\n",
      " 2   parental level of education  1000 non-null   object\n",
      " 3   lunch                        1000 non-null   object\n",
      " 4   test preparation course      1000 non-null   object\n",
      " 5   math score                   1000 non-null   int64 \n",
      " 6   reading score                1000 non-null   int64 \n",
      " 7   writing score                1000 non-null   int64 \n",
      "dtypes: int64(3), object(5)\n",
      "memory usage: 62.6+ KB\n"
     ]
    }
   ],
   "source": [
    "df.info()"
   ]
  },
  {
   "cell_type": "markdown",
   "id": "78c69715",
   "metadata": {},
   "source": [
    "`data.info()` can be used to:\n",
    "1. Check the **count number** of the dataset (at `RangeIndex`)\n",
    "2. Check if there are **missing values** or not (by checking if the `Non-Null Count` for each variable is fewer than the number of records or not)\n",
    "3. Check the **data type** of all the variables of the dataset \n",
    "    - `object` are usually **categorical** (sometimes can be other types such as **datetime**)\n",
    "    - `int` and `float` are usually **numerical** (sometimes can be other types such as **boolean** (0/1))"
   ]
  },
  {
   "cell_type": "code",
   "execution_count": 130,
   "id": "f65d15e8",
   "metadata": {
    "scrolled": true
   },
   "outputs": [
    {
     "data": {
      "text/plain": [
       "gender                          2\n",
       "race/ethnicity                  5\n",
       "parental level of education     6\n",
       "lunch                           2\n",
       "test preparation course         2\n",
       "math score                     81\n",
       "reading score                  72\n",
       "writing score                  77\n",
       "dtype: int64"
      ]
     },
     "execution_count": 130,
     "metadata": {},
     "output_type": "execute_result"
    }
   ],
   "source": [
    "df.nunique()"
   ]
  },
  {
   "cell_type": "markdown",
   "id": "28862e70",
   "metadata": {},
   "source": [
    "`data.nunique()` can be used to check the count number of distinct elements for each variables. If the `nunique` of a `numerical` variable is very low (such as fewer than 10), you should check if it is label encoded categorical variable or not.\n"
   ]
  },
  {
   "cell_type": "markdown",
   "id": "7f4edb64",
   "metadata": {},
   "source": [
    "Since our data is clean (no obvious outliers, no missing values etc.), so we can proceed with EDA without going through data cleaning."
   ]
  },
  {
   "cell_type": "markdown",
   "id": "4cb74da7",
   "metadata": {},
   "source": [
    "## Descriptive Analysis<a name=\"3.0\"></a>"
   ]
  },
  {
   "cell_type": "markdown",
   "id": "e2e9ea48",
   "metadata": {},
   "source": [
    "A quick general descriptive analysis can be done using `data.describe()` (as shown in previous section). However, for most of the cases, it is not detailed enough. The following section demonstrates how to perform a more detailed and specific descriptive analysis."
   ]
  },
  {
   "cell_type": "markdown",
   "id": "b35f9a43",
   "metadata": {},
   "source": [
    "### Measures of Central Tendency<a name=\"3.1\"></a>"
   ]
  },
  {
   "cell_type": "markdown",
   "id": "7e04d2e9",
   "metadata": {},
   "source": [
    "**Mean**, **trimmed mean** and **median** are widely used measures of central cendency. The following codes are those measures for the variable `math score`. For **trimmed mean**, we need to specify the **percentage** of the data to be ignored at both ends of sorted data."
   ]
  },
  {
   "cell_type": "code",
   "execution_count": 131,
   "id": "61a43eec",
   "metadata": {},
   "outputs": [
    {
     "data": {
      "text/plain": [
       "66.089"
      ]
     },
     "execution_count": 131,
     "metadata": {},
     "output_type": "execute_result"
    }
   ],
   "source": [
    "# mean\n",
    "df[\"math score\"].mean()"
   ]
  },
  {
   "cell_type": "code",
   "execution_count": 132,
   "id": "b379ac6c",
   "metadata": {},
   "outputs": [
    {
     "data": {
      "text/plain": [
       "66.0"
      ]
     },
     "execution_count": 132,
     "metadata": {},
     "output_type": "execute_result"
    }
   ],
   "source": [
    "# median\n",
    "df[\"math score\"].median()"
   ]
  },
  {
   "cell_type": "code",
   "execution_count": 133,
   "id": "27b2fc70",
   "metadata": {},
   "outputs": [
    {
     "data": {
      "text/plain": [
       "66.34"
      ]
     },
     "execution_count": 133,
     "metadata": {},
     "output_type": "execute_result"
    }
   ],
   "source": [
    "from scipy.stats import trim_mean\n",
    "\n",
    "# trimmed mean\n",
    "trim_mean(df[\"math score\"], 0.05)"
   ]
  },
  {
   "cell_type": "markdown",
   "id": "5d63732e",
   "metadata": {},
   "source": [
    "The `trimmed mean` helps to reduce the effects of outliers on the calculated average. The trimmed mean is best suited for data with large, erratic deviations or extremely skewed distributions."
   ]
  },
  {
   "cell_type": "markdown",
   "id": "739245c9",
   "metadata": {},
   "source": [
    "### Measures of Dispersion<a name=\"3.2\"></a>"
   ]
  },
  {
   "cell_type": "markdown",
   "id": "b6c87d14",
   "metadata": {},
   "source": [
    "**Standard deviation** and **variance** are commmonly used measures of dispersion. On the other hand, **skewness** enable us to have a better understanding of the distribution of data. All of them are avaiable in the `pandas` library."
   ]
  },
  {
   "cell_type": "code",
   "execution_count": 134,
   "id": "0fcb5530",
   "metadata": {},
   "outputs": [
    {
     "data": {
      "text/plain": [
       "15.163080096009468"
      ]
     },
     "execution_count": 134,
     "metadata": {},
     "output_type": "execute_result"
    }
   ],
   "source": [
    "# standard deviation\n",
    "df[\"math score\"].std()"
   ]
  },
  {
   "cell_type": "code",
   "execution_count": 135,
   "id": "95947b0f",
   "metadata": {},
   "outputs": [
    {
     "data": {
      "text/plain": [
       "229.91899799799847"
      ]
     },
     "execution_count": 135,
     "metadata": {},
     "output_type": "execute_result"
    }
   ],
   "source": [
    "# variance\n",
    "df[\"math score\"].var()"
   ]
  },
  {
   "cell_type": "code",
   "execution_count": 136,
   "id": "7a51ff7a",
   "metadata": {},
   "outputs": [
    {
     "data": {
      "text/plain": [
       "-0.27893514909431694"
      ]
     },
     "execution_count": 136,
     "metadata": {},
     "output_type": "execute_result"
    }
   ],
   "source": [
    "# skewness\n",
    "df[\"math score\"].skew()"
   ]
  },
  {
   "cell_type": "markdown",
   "id": "1e131333",
   "metadata": {},
   "source": [
    "- The **skewness** of `math score` is negative, implies that the distribution of `math score` is negatively skewed (slightly)."
   ]
  },
  {
   "cell_type": "markdown",
   "id": "d1e82254",
   "metadata": {},
   "source": [
    "## Data Exploration<a name=\"4.0\"></a>"
   ]
  },
  {
   "cell_type": "markdown",
   "id": "aa72306e",
   "metadata": {},
   "source": [
    "### Univariate Analysis: Continuous Variables<a name=\"4.1\"></a>"
   ]
  },
  {
   "cell_type": "markdown",
   "id": "eccd14ac",
   "metadata": {},
   "source": [
    "Univariate analysis techniques for continuous variables includes descriptive analysis, which most of them has been coverred in previous section. Therefore in this section we will cover the rest of the non-graphical techniques and some graphical techniques. "
   ]
  },
  {
   "cell_type": "markdown",
   "id": "48eadec9",
   "metadata": {},
   "source": [
    "#### Percentile<a name=\"4.1.1\"></a>"
   ]
  },
  {
   "cell_type": "markdown",
   "id": "902a02c7",
   "metadata": {},
   "source": [
    "- Percentile can be calculated using `quantile()` in `pandas`.\n",
    "- `quantile()` accepts values between 0 to 1, so if we want obtained value at *k*th percentile, we should divide *k* by 100 before using it as argument in `quantile()` function.\n",
    "- For example, to obtain value at <em>15</em>th percentile we need to use <em>0.15</em> as the argument. \n",
    ">`data.quantile(0.15)`\n"
   ]
  },
  {
   "cell_type": "code",
   "execution_count": 137,
   "id": "715a0a5c",
   "metadata": {},
   "outputs": [
    {
     "data": {
      "text/plain": [
       "0.05    40.95\n",
       "0.25    57.00\n",
       "0.50    66.00\n",
       "0.75    77.00\n",
       "0.95    90.05\n",
       "Name: math score, dtype: float64"
      ]
     },
     "execution_count": 137,
     "metadata": {},
     "output_type": "execute_result"
    }
   ],
   "source": [
    "# Return values at the requested percentiles for a numerical variable\n",
    "df[\"math score\"].quantile([0.05, 0.25, 0.5, 0.75, 0.95])"
   ]
  },
  {
   "cell_type": "code",
   "execution_count": 138,
   "id": "24619df1",
   "metadata": {},
   "outputs": [
    {
     "data": {
      "text/html": [
       "<div>\n",
       "<style scoped>\n",
       "    .dataframe tbody tr th:only-of-type {\n",
       "        vertical-align: middle;\n",
       "    }\n",
       "\n",
       "    .dataframe tbody tr th {\n",
       "        vertical-align: top;\n",
       "    }\n",
       "\n",
       "    .dataframe thead th {\n",
       "        text-align: right;\n",
       "    }\n",
       "</style>\n",
       "<table border=\"1\" class=\"dataframe\">\n",
       "  <thead>\n",
       "    <tr style=\"text-align: right;\">\n",
       "      <th></th>\n",
       "      <th>math score</th>\n",
       "      <th>reading score</th>\n",
       "      <th>writing score</th>\n",
       "    </tr>\n",
       "  </thead>\n",
       "  <tbody>\n",
       "    <tr>\n",
       "      <th>0.05</th>\n",
       "      <td>40.95</td>\n",
       "      <td>44.0</td>\n",
       "      <td>42.95</td>\n",
       "    </tr>\n",
       "    <tr>\n",
       "      <th>0.25</th>\n",
       "      <td>57.00</td>\n",
       "      <td>59.0</td>\n",
       "      <td>57.75</td>\n",
       "    </tr>\n",
       "    <tr>\n",
       "      <th>0.50</th>\n",
       "      <td>66.00</td>\n",
       "      <td>70.0</td>\n",
       "      <td>69.00</td>\n",
       "    </tr>\n",
       "    <tr>\n",
       "      <th>0.75</th>\n",
       "      <td>77.00</td>\n",
       "      <td>79.0</td>\n",
       "      <td>79.00</td>\n",
       "    </tr>\n",
       "    <tr>\n",
       "      <th>0.95</th>\n",
       "      <td>90.05</td>\n",
       "      <td>92.0</td>\n",
       "      <td>92.00</td>\n",
       "    </tr>\n",
       "  </tbody>\n",
       "</table>\n",
       "</div>"
      ],
      "text/plain": [
       "      math score  reading score  writing score\n",
       "0.05       40.95           44.0          42.95\n",
       "0.25       57.00           59.0          57.75\n",
       "0.50       66.00           70.0          69.00\n",
       "0.75       77.00           79.0          79.00\n",
       "0.95       90.05           92.0          92.00"
      ]
     },
     "execution_count": 138,
     "metadata": {},
     "output_type": "execute_result"
    }
   ],
   "source": [
    "# Return values at the requested percentiles\n",
    "# for all numerical variables of a dataframe\n",
    "df.quantile([0.05, 0.25, 0.5, 0.75, 0.95])"
   ]
  },
  {
   "cell_type": "markdown",
   "id": "a68bbe39",
   "metadata": {},
   "source": [
    "#### Interquartile range (IQR)<a name=\"4.1.2\"></a>"
   ]
  },
  {
   "cell_type": "markdown",
   "id": "d1e01ee5",
   "metadata": {},
   "source": [
    "- IQR = Q3 - Q1 (75th percentile - 25th percentile) \n",
    "- **IQR method** can be used to detect outliers, where any data points that are more than 1.5 IQR below Q1 or more than 1.5 IQR above Q3 are outliers. "
   ]
  },
  {
   "cell_type": "code",
   "execution_count": 139,
   "id": "06d8bb88",
   "metadata": {},
   "outputs": [
    {
     "name": "stdout",
     "output_type": "stream",
     "text": [
      "For math score:\n",
      "IQR:  20.0\n",
      "1.5 IQR:  30.0\n"
     ]
    }
   ],
   "source": [
    "# Calculate the IQR for math score\n",
    "IQR = df[\"math score\"].quantile(0.75) - df[\"math score\"].quantile(0.25)\n",
    "print(\"For math score:\")\n",
    "print(\"IQR: \", IQR)\n",
    "print(\"1.5 IQR: \", 1.5 * IQR)"
   ]
  },
  {
   "cell_type": "markdown",
   "id": "57e85c08",
   "metadata": {},
   "source": [
    "#### Boxplots<a name=\"4.1.3\"></a>"
   ]
  },
  {
   "cell_type": "markdown",
   "id": "4c00290e",
   "metadata": {},
   "source": [
    "A single boxplot can be plotted using the codes below:"
   ]
  },
  {
   "cell_type": "code",
   "execution_count": 140,
   "id": "38b612d5",
   "metadata": {},
   "outputs": [
    {
     "data": {
      "image/png": "[encoded data removed]",
      "text/plain": [
       "<Figure size 216x288 with 1 Axes>"
      ]
     },
     "metadata": {
      "needs_background": "light"
     },
     "output_type": "display_data"
    }
   ],
   "source": [
    "ax = df[\"math score\"].plot.box(figsize=(3, 4))\n",
    "\n",
    "plt.tight_layout()\n",
    "plt.show()"
   ]
  },
  {
   "cell_type": "markdown",
   "id": "4cd16cc1",
   "metadata": {},
   "source": [
    "By **IQR method**, the values below Q1 - 1.5IQR = 57 - 30 = 27 are considered as **outliers**, which are indicated as small circles in the boxplot."
   ]
  },
  {
   "cell_type": "markdown",
   "id": "3230812c",
   "metadata": {},
   "source": [
    "#### Frequency Table<a name=\"4.1.4\"></a>"
   ]
  },
  {
   "cell_type": "markdown",
   "id": "b49374b2",
   "metadata": {},
   "source": [
    "- In order to generate a frequency table for a continuous variable, we must divide up the variable range into equal size bins."
   ]
  },
  {
   "cell_type": "code",
   "execution_count": 141,
   "id": "6df46437",
   "metadata": {},
   "outputs": [
    {
     "data": {
      "text/plain": [
       "(-0.1, 10.0]       2\n",
       "(10.0, 20.0]       2\n",
       "(20.0, 30.0]      12\n",
       "(30.0, 40.0]      34\n",
       "(40.0, 50.0]     100\n",
       "(50.0, 60.0]     189\n",
       "(60.0, 70.0]     270\n",
       "(70.0, 80.0]     215\n",
       "(80.0, 90.0]     126\n",
       "(90.0, 100.0]     50\n",
       "Name: math score, dtype: int64"
      ]
     },
     "execution_count": 141,
     "metadata": {},
     "output_type": "execute_result"
    }
   ],
   "source": [
    "# Cut the variable range into 10 bins and calculate the count number for each bins\n",
    "binnedMathScore = pd.cut(df[\"math score\"], 10)\n",
    "binnedMathScore.value_counts().sort_index()"
   ]
  },
  {
   "cell_type": "code",
   "execution_count": 142,
   "id": "1ac5aa92",
   "metadata": {},
   "outputs": [
    {
     "name": "stdout",
     "output_type": "stream",
     "text": [
      "Frequency table for math score:\n"
     ]
    },
    {
     "data": {
      "text/html": [
       "<div>\n",
       "<style scoped>\n",
       "    .dataframe tbody tr th:only-of-type {\n",
       "        vertical-align: middle;\n",
       "    }\n",
       "\n",
       "    .dataframe tbody tr th {\n",
       "        vertical-align: top;\n",
       "    }\n",
       "\n",
       "    .dataframe thead th {\n",
       "        text-align: right;\n",
       "    }\n",
       "</style>\n",
       "<table border=\"1\" class=\"dataframe\">\n",
       "  <thead>\n",
       "    <tr style=\"text-align: right;\">\n",
       "      <th></th>\n",
       "      <th>BinRange</th>\n",
       "      <th>Count</th>\n",
       "    </tr>\n",
       "  </thead>\n",
       "  <tbody>\n",
       "    <tr>\n",
       "      <th>0</th>\n",
       "      <td>(-0.1, 10.0]</td>\n",
       "      <td>2</td>\n",
       "    </tr>\n",
       "    <tr>\n",
       "      <th>1</th>\n",
       "      <td>(10.0, 20.0]</td>\n",
       "      <td>2</td>\n",
       "    </tr>\n",
       "    <tr>\n",
       "      <th>2</th>\n",
       "      <td>(20.0, 30.0]</td>\n",
       "      <td>12</td>\n",
       "    </tr>\n",
       "    <tr>\n",
       "      <th>3</th>\n",
       "      <td>(30.0, 40.0]</td>\n",
       "      <td>34</td>\n",
       "    </tr>\n",
       "    <tr>\n",
       "      <th>4</th>\n",
       "      <td>(40.0, 50.0]</td>\n",
       "      <td>100</td>\n",
       "    </tr>\n",
       "    <tr>\n",
       "      <th>5</th>\n",
       "      <td>(50.0, 60.0]</td>\n",
       "      <td>189</td>\n",
       "    </tr>\n",
       "    <tr>\n",
       "      <th>6</th>\n",
       "      <td>(60.0, 70.0]</td>\n",
       "      <td>270</td>\n",
       "    </tr>\n",
       "    <tr>\n",
       "      <th>7</th>\n",
       "      <td>(70.0, 80.0]</td>\n",
       "      <td>215</td>\n",
       "    </tr>\n",
       "    <tr>\n",
       "      <th>8</th>\n",
       "      <td>(80.0, 90.0]</td>\n",
       "      <td>126</td>\n",
       "    </tr>\n",
       "    <tr>\n",
       "      <th>9</th>\n",
       "      <td>(90.0, 100.0]</td>\n",
       "      <td>50</td>\n",
       "    </tr>\n",
       "  </tbody>\n",
       "</table>\n",
       "</div>"
      ],
      "text/plain": [
       "        BinRange  Count\n",
       "0   (-0.1, 10.0]      2\n",
       "1   (10.0, 20.0]      2\n",
       "2   (20.0, 30.0]     12\n",
       "3   (30.0, 40.0]     34\n",
       "4   (40.0, 50.0]    100\n",
       "5   (50.0, 60.0]    189\n",
       "6   (60.0, 70.0]    270\n",
       "7   (70.0, 80.0]    215\n",
       "8   (80.0, 90.0]    126\n",
       "9  (90.0, 100.0]     50"
      ]
     },
     "execution_count": 142,
     "metadata": {},
     "output_type": "execute_result"
    }
   ],
   "source": [
    "# Generate a frequency table using data from above cell\n",
    "df_binnedMathScore = binnedMathScore.value_counts().sort_index().reset_index()\n",
    "df_binnedMathScore.columns = [\"BinRange\", \"Count\"]\n",
    "print(\"Frequency table for math score:\")\n",
    "df_binnedMathScore"
   ]
  },
  {
   "cell_type": "markdown",
   "id": "2f4ac727",
   "metadata": {},
   "source": [
    "#### Histogram<a name=\"4.1.5\"></a>"
   ]
  },
  {
   "cell_type": "markdown",
   "id": "a1598ea9",
   "metadata": {},
   "source": [
    "- Histogram is a way to visualize a frequency table. \n",
    "- It can be generated using `displot` function from `seaborn` library\n",
    "- The parameter `bins` is used to determine numbers of bins of the histogram."
   ]
  },
  {
   "cell_type": "code",
   "execution_count": 143,
   "id": "c40e08ac",
   "metadata": {},
   "outputs": [
    {
     "data": {
      "image/png": "[encoded data removed]",
      "text/plain": [
       "<Figure size 360x360 with 1 Axes>"
      ]
     },
     "metadata": {
      "needs_background": "light"
     },
     "output_type": "display_data"
    }
   ],
   "source": [
    "# histogram for math score\n",
    "\n",
    "fig = sns.displot(df[\"math score\"], bins=10, height=5)\n",
    "fig.set(xlim=(0, 100), title=\"Histogram of math score\")\n",
    "\n",
    "\n",
    "plt.tight_layout()\n",
    "plt.show()"
   ]
  },
  {
   "cell_type": "code",
   "execution_count": 144,
   "id": "31b3407f",
   "metadata": {},
   "outputs": [
    {
     "data": {
      "image/png": "[encoded data removed]",
      "text/plain": [
       "<Figure size 504x360 with 1 Axes>"
      ]
     },
     "metadata": {
      "needs_background": "light"
     },
     "output_type": "display_data"
    }
   ],
   "source": [
    "plt.figure(figsize=(7,5))\n",
    "plt.hist(df[\"math score\"], bins=10)\n",
    "plt.title(\"Histogram of math score\");"
   ]
  },
  {
   "cell_type": "markdown",
   "id": "b6cd2e96",
   "metadata": {},
   "source": [
    "We can notice that the distribution of the math score is slightly negatively skewed."
   ]
  },
  {
   "cell_type": "markdown",
   "id": "6634c819",
   "metadata": {},
   "source": [
    "#### Density Plots and Estimates<a name=\"4.1.6\"></a>"
   ]
  },
  {
   "cell_type": "markdown",
   "id": "ba64e3c0",
   "metadata": {},
   "source": [
    "- Density plot can be considered as a smoothed histogram, which is typically computed through kernel density estimation (KDE).\n",
    "- For density plot and histogram to be plotted together, we can use the `histplot` function from `seaborn` with parameter `kde` = `True`.\n",
    "- The parameter `bins` is used to determine numbers of bins of the histogram.\n",
    "- If you need only density plot, you may use `kdeplot` instead of `histplot`."
   ]
  },
  {
   "cell_type": "code",
   "execution_count": 74,
   "id": "49a3ae23",
   "metadata": {},
   "outputs": [
    {
     "data": {
      "image/png": "[encoded data removed]",
      "text/plain": [
       "<Figure size 360x288 with 1 Axes>"
      ]
     },
     "metadata": {
      "needs_background": "light"
     },
     "output_type": "display_data"
    }
   ],
   "source": [
    "fig, ax = plt.subplots(figsize=(5, 4))\n",
    "ax = sns.histplot(df[\"math score\"], kde=True, stat=\"density\", bins=10)\n",
    "ax.set(xlim=(0, 100), title=\"Density plot and histogram of math score\")\n",
    "\n",
    "plt.tight_layout()\n",
    "plt.show()"
   ]
  },
  {
   "cell_type": "code",
   "execution_count": 75,
   "id": "de2902db",
   "metadata": {
    "scrolled": true
   },
   "outputs": [
    {
     "data": {
      "image/png": "[encoded data removed]",
      "text/plain": [
       "<Figure size 360x288 with 1 Axes>"
      ]
     },
     "metadata": {
      "needs_background": "light"
     },
     "output_type": "display_data"
    }
   ],
   "source": [
    "fig, ax = plt.subplots(figsize=(5, 4))\n",
    "ax = sns.kdeplot(df[\"math score\"])\n",
    "ax.set(xlim=(0, 100), title=\"Density plot of math score\")\n",
    "\n",
    "plt.tight_layout()\n",
    "plt.show()"
   ]
  },
  {
   "cell_type": "markdown",
   "id": "399fc592",
   "metadata": {},
   "source": [
    "### Univariate Analysis: Binary and Categorical Variables<a name=\"4.2\"></a>"
   ]
  },
  {
   "cell_type": "markdown",
   "id": "ad496e65",
   "metadata": {},
   "source": [
    "For binary and categorical variables, we tend to focus on the frequency of each category for that particular variable."
   ]
  },
  {
   "cell_type": "markdown",
   "id": "4aa7a973",
   "metadata": {},
   "source": [
    "#### Mode<a name=\"4.2.1\"></a>"
   ]
  },
  {
   "cell_type": "markdown",
   "id": "310589e2",
   "metadata": {},
   "source": [
    "Indicate the category which has the maximum frequency for a particular variable"
   ]
  },
  {
   "cell_type": "code",
   "execution_count": 76,
   "id": "bdd5eb3f",
   "metadata": {},
   "outputs": [
    {
     "data": {
      "text/plain": [
       "0    group C\n",
       "Name: race/ethnicity, dtype: object"
      ]
     },
     "execution_count": 76,
     "metadata": {},
     "output_type": "execute_result"
    }
   ],
   "source": [
    "# Find the mode of race/ethnicity\n",
    "df[\"race/ethnicity\"].mode()"
   ]
  },
  {
   "cell_type": "markdown",
   "id": "db9159a8",
   "metadata": {},
   "source": [
    "#### Bar Plot<a name=\"4.2.2\"></a>"
   ]
  },
  {
   "cell_type": "markdown",
   "id": "a9a1b500",
   "metadata": {},
   "source": [
    "- Visualize the frequency of each category of a selected variable.\n",
    "- Can be plotted using `catplot` function from `seaborn` where the parameter `kind`=`count`."
   ]
  },
  {
   "cell_type": "code",
   "execution_count": 77,
   "id": "ed927737",
   "metadata": {},
   "outputs": [
    {
     "data": {
      "text/plain": [
       "group A     89\n",
       "group B    190\n",
       "group C    319\n",
       "group D    262\n",
       "group E    140\n",
       "Name: race/ethnicity, dtype: int64"
      ]
     },
     "execution_count": 77,
     "metadata": {},
     "output_type": "execute_result"
    }
   ],
   "source": [
    "# Frequency of each category of race/ethnicity\n",
    "df[\"race/ethnicity\"].value_counts().sort_index()"
   ]
  },
  {
   "cell_type": "code",
   "execution_count": 78,
   "id": "7ce59ba5",
   "metadata": {},
   "outputs": [
    {
     "data": {
      "image/png": "[encoded data removed]",
      "text/plain": [
       "<Figure size 345.6x288 with 1 Axes>"
      ]
     },
     "metadata": {
      "needs_background": "light"
     },
     "output_type": "display_data"
    }
   ],
   "source": [
    "fig = sns.catplot(\n",
    "    data=df.sort_values(\"race/ethnicity\"),\n",
    "    x=\"race/ethnicity\",\n",
    "    kind=\"count\",\n",
    "    height=4,\n",
    "    aspect=1.2,\n",
    ")\n",
    "fig.set(title=\"Bar plot of number of students for each race/ethnicity\")\n",
    "plt.tight_layout()\n",
    "plt.show()"
   ]
  },
  {
   "cell_type": "markdown",
   "id": "d8643f1c",
   "metadata": {},
   "source": [
    "Besides **group C** is the **mode**, we can also interpret that **group A** has the **fewest count number**."
   ]
  },
  {
   "cell_type": "markdown",
   "id": "2830d9cd",
   "metadata": {},
   "source": [
    "### Multivariate  Analysis: Continuous Variables vs Continuous Variables<a name=\"4.3\"></a>"
   ]
  },
  {
   "cell_type": "markdown",
   "id": "71c2e637",
   "metadata": {},
   "source": [
    "#### Correlation and Correlation Matrix<a name=\"4.3.1\"></a>"
   ]
  },
  {
   "cell_type": "markdown",
   "id": "06f9c93a",
   "metadata": {},
   "source": [
    "- **Correlation** is the measure of how **two or more continuous variables** are ***linearly* related** to each other.\n",
    "- **Correlation coefficient** is the **metric** that measures the degree of correlation (usually ranges from -1 to +1).\n",
    "- **Correlation matrix** is a **table** that shows the **correlation coefficients** among the variables. "
   ]
  },
  {
   "cell_type": "markdown",
   "id": "ae203074",
   "metadata": {},
   "source": [
    "`corr` from `pandas` library is a straightforward function to generate correlation matrix. The default type of correlation coefficient is `pearson` . You may change it by specifying the parameter`method` = `spearman` or `kendall`."
   ]
  },
  {
   "cell_type": "code",
   "execution_count": 79,
   "id": "6ec74890",
   "metadata": {},
   "outputs": [
    {
     "data": {
      "text/html": [
       "<div>\n",
       "<style scoped>\n",
       "    .dataframe tbody tr th:only-of-type {\n",
       "        vertical-align: middle;\n",
       "    }\n",
       "\n",
       "    .dataframe tbody tr th {\n",
       "        vertical-align: top;\n",
       "    }\n",
       "\n",
       "    .dataframe thead th {\n",
       "        text-align: right;\n",
       "    }\n",
       "</style>\n",
       "<table border=\"1\" class=\"dataframe\">\n",
       "  <thead>\n",
       "    <tr style=\"text-align: right;\">\n",
       "      <th></th>\n",
       "      <th>math score</th>\n",
       "      <th>reading score</th>\n",
       "      <th>writing score</th>\n",
       "    </tr>\n",
       "  </thead>\n",
       "  <tbody>\n",
       "    <tr>\n",
       "      <th>math score</th>\n",
       "      <td>1.000000</td>\n",
       "      <td>0.817580</td>\n",
       "      <td>0.802642</td>\n",
       "    </tr>\n",
       "    <tr>\n",
       "      <th>reading score</th>\n",
       "      <td>0.817580</td>\n",
       "      <td>1.000000</td>\n",
       "      <td>0.954598</td>\n",
       "    </tr>\n",
       "    <tr>\n",
       "      <th>writing score</th>\n",
       "      <td>0.802642</td>\n",
       "      <td>0.954598</td>\n",
       "      <td>1.000000</td>\n",
       "    </tr>\n",
       "  </tbody>\n",
       "</table>\n",
       "</div>"
      ],
      "text/plain": [
       "               math score  reading score  writing score\n",
       "math score       1.000000       0.817580       0.802642\n",
       "reading score    0.817580       1.000000       0.954598\n",
       "writing score    0.802642       0.954598       1.000000"
      ]
     },
     "execution_count": 79,
     "metadata": {},
     "output_type": "execute_result"
    }
   ],
   "source": [
    "df.corr()"
   ]
  },
  {
   "cell_type": "code",
   "execution_count": 80,
   "id": "14281b46",
   "metadata": {},
   "outputs": [
    {
     "data": {
      "image/png": "[encoded data removed]",
      "text/plain": [
       "<Figure size 432x288 with 2 Axes>"
      ]
     },
     "metadata": {
      "needs_background": "light"
     },
     "output_type": "display_data"
    }
   ],
   "source": [
    "# Visualization of correlation matrix\n",
    "ax = sns.heatmap(\n",
    "    df.corr(),\n",
    "    vmin=-1,\n",
    "    vmax=1,\n",
    "    square=True,\n",
    "    linewidth=0.5,\n",
    "    cmap=\"coolwarm_r\",\n",
    "    annot=True,\n",
    ")\n",
    "ax.set_yticklabels(ax.get_yticklabels(), rotation=0)\n",
    "ax.set(title=\"Correlation matrix (Pearson's r)\")\n",
    "\n",
    "plt.tight_layout()\n",
    "plt.show()"
   ]
  },
  {
   "cell_type": "markdown",
   "id": "4f55bda8",
   "metadata": {},
   "source": [
    "#### Scatterplots<a name=\"4.3.2\"></a>"
   ]
  },
  {
   "cell_type": "markdown",
   "id": "f95e2b19",
   "metadata": {},
   "source": [
    "- Visualizes the relationships between two continuous variables.\n",
    "- The x-axis represents one variable and the y-axis represents another variable\n",
    "- `relplot` can be used to plot relationship between two selected variables.\n",
    "- `pairplot` is a convinient function to plot pairwise relationships for all continuous variables"
   ]
  },
  {
   "cell_type": "code",
   "execution_count": 81,
   "id": "019f2efb",
   "metadata": {},
   "outputs": [
    {
     "data": {
      "image/png": "[encoded data removed]",
      "text/plain": [
       "<Figure size 288x288 with 1 Axes>"
      ]
     },
     "metadata": {
      "needs_background": "light"
     },
     "output_type": "display_data"
    }
   ],
   "source": [
    "fig = sns.relplot(data=df, x=\"math score\", y=\"reading score\", height=4)\n",
    "fig.set(title=\"reading score against math score\")\n",
    "\n",
    "plt.tight_layout()\n",
    "plt.show()"
   ]
  },
  {
   "cell_type": "code",
   "execution_count": 82,
   "id": "9fbca053",
   "metadata": {
    "scrolled": true
   },
   "outputs": [
    {
     "data": {
      "image/png": "[encoded data removed]",
      "text/plain": [
       "<Figure size 540x540 with 12 Axes>"
      ]
     },
     "metadata": {
      "needs_background": "light"
     },
     "output_type": "display_data"
    }
   ],
   "source": [
    "fig = sns.pairplot(df)\n",
    "\n",
    "plt.tight_layout()\n",
    "plt.show()"
   ]
  },
  {
   "cell_type": "markdown",
   "id": "e41b0e51",
   "metadata": {},
   "source": [
    "We can observe that `math score`, `reading score` and `writing score` have strong positive correlations among each other."
   ]
  },
  {
   "cell_type": "markdown",
   "id": "d8389549",
   "metadata": {},
   "source": [
    "### Multivariate  Analysis: Categorical Variables vs Categorical Variables<a name=\"4.4\"></a>"
   ]
  },
  {
   "cell_type": "markdown",
   "id": "1932ac07",
   "metadata": {},
   "source": [
    "#### Contingency Table<a name=\"4.4.1\"></a>"
   ]
  },
  {
   "cell_type": "markdown",
   "id": "5fe563b6",
   "metadata": {},
   "source": [
    "- Also known as crosstab in `pandas`\n",
    "- By default computes a **frequency table** of the variables, can be changed to percentage by changing the parameter `normalize` to \n",
    "    - `True`(normalize over all values), \n",
    "    - `index`(normalize over each row) or \n",
    "    - `columns` (normalize over each column) \n",
    "- Can change the parameter `margins` to `True` to add subtotals for each row and column."
   ]
  },
  {
   "cell_type": "code",
   "execution_count": 83,
   "id": "395c0450",
   "metadata": {},
   "outputs": [
    {
     "data": {
      "text/html": [
       "<div>\n",
       "<style scoped>\n",
       "    .dataframe tbody tr th:only-of-type {\n",
       "        vertical-align: middle;\n",
       "    }\n",
       "\n",
       "    .dataframe tbody tr th {\n",
       "        vertical-align: top;\n",
       "    }\n",
       "\n",
       "    .dataframe thead th {\n",
       "        text-align: right;\n",
       "    }\n",
       "</style>\n",
       "<table border=\"1\" class=\"dataframe\">\n",
       "  <thead>\n",
       "    <tr style=\"text-align: right;\">\n",
       "      <th>race/ethnicity</th>\n",
       "      <th>group A</th>\n",
       "      <th>group B</th>\n",
       "      <th>group C</th>\n",
       "      <th>group D</th>\n",
       "      <th>group E</th>\n",
       "      <th>Total</th>\n",
       "    </tr>\n",
       "    <tr>\n",
       "      <th>gender</th>\n",
       "      <th></th>\n",
       "      <th></th>\n",
       "      <th></th>\n",
       "      <th></th>\n",
       "      <th></th>\n",
       "      <th></th>\n",
       "    </tr>\n",
       "  </thead>\n",
       "  <tbody>\n",
       "    <tr>\n",
       "      <th>female</th>\n",
       "      <td>0.036</td>\n",
       "      <td>0.104</td>\n",
       "      <td>0.180</td>\n",
       "      <td>0.129</td>\n",
       "      <td>0.069</td>\n",
       "      <td>0.518</td>\n",
       "    </tr>\n",
       "    <tr>\n",
       "      <th>male</th>\n",
       "      <td>0.053</td>\n",
       "      <td>0.086</td>\n",
       "      <td>0.139</td>\n",
       "      <td>0.133</td>\n",
       "      <td>0.071</td>\n",
       "      <td>0.482</td>\n",
       "    </tr>\n",
       "    <tr>\n",
       "      <th>Total</th>\n",
       "      <td>0.089</td>\n",
       "      <td>0.190</td>\n",
       "      <td>0.319</td>\n",
       "      <td>0.262</td>\n",
       "      <td>0.140</td>\n",
       "      <td>1.000</td>\n",
       "    </tr>\n",
       "  </tbody>\n",
       "</table>\n",
       "</div>"
      ],
      "text/plain": [
       "race/ethnicity  group A  group B  group C  group D  group E  Total\n",
       "gender                                                            \n",
       "female            0.036    0.104    0.180    0.129    0.069  0.518\n",
       "male              0.053    0.086    0.139    0.133    0.071  0.482\n",
       "Total             0.089    0.190    0.319    0.262    0.140  1.000"
      ]
     },
     "execution_count": 83,
     "metadata": {},
     "output_type": "execute_result"
    }
   ],
   "source": [
    "# 2-way table\n",
    "pd.crosstab(\n",
    "    df[\"gender\"],\n",
    "    df[\"race/ethnicity\"],\n",
    "    margins=True,\n",
    "    margins_name=\"Total\",\n",
    "    normalize=True,\n",
    ")"
   ]
  },
  {
   "cell_type": "code",
   "execution_count": 84,
   "id": "4b53c750",
   "metadata": {},
   "outputs": [
    {
     "data": {
      "text/html": [
       "<div>\n",
       "<style scoped>\n",
       "    .dataframe tbody tr th:only-of-type {\n",
       "        vertical-align: middle;\n",
       "    }\n",
       "\n",
       "    .dataframe tbody tr th {\n",
       "        vertical-align: top;\n",
       "    }\n",
       "\n",
       "    .dataframe thead tr th {\n",
       "        text-align: left;\n",
       "    }\n",
       "\n",
       "    .dataframe thead tr:last-of-type th {\n",
       "        text-align: right;\n",
       "    }\n",
       "</style>\n",
       "<table border=\"1\" class=\"dataframe\">\n",
       "  <thead>\n",
       "    <tr>\n",
       "      <th>gender</th>\n",
       "      <th colspan=\"5\" halign=\"left\">female</th>\n",
       "      <th colspan=\"5\" halign=\"left\">male</th>\n",
       "    </tr>\n",
       "    <tr>\n",
       "      <th>race/ethnicity</th>\n",
       "      <th>group A</th>\n",
       "      <th>group B</th>\n",
       "      <th>group C</th>\n",
       "      <th>group D</th>\n",
       "      <th>group E</th>\n",
       "      <th>group A</th>\n",
       "      <th>group B</th>\n",
       "      <th>group C</th>\n",
       "      <th>group D</th>\n",
       "      <th>group E</th>\n",
       "    </tr>\n",
       "    <tr>\n",
       "      <th>parental level of education</th>\n",
       "      <th></th>\n",
       "      <th></th>\n",
       "      <th></th>\n",
       "      <th></th>\n",
       "      <th></th>\n",
       "      <th></th>\n",
       "      <th></th>\n",
       "      <th></th>\n",
       "      <th></th>\n",
       "      <th></th>\n",
       "    </tr>\n",
       "  </thead>\n",
       "  <tbody>\n",
       "    <tr>\n",
       "      <th>associate's degree</th>\n",
       "      <td>6</td>\n",
       "      <td>23</td>\n",
       "      <td>45</td>\n",
       "      <td>24</td>\n",
       "      <td>18</td>\n",
       "      <td>8</td>\n",
       "      <td>18</td>\n",
       "      <td>33</td>\n",
       "      <td>26</td>\n",
       "      <td>21</td>\n",
       "    </tr>\n",
       "    <tr>\n",
       "      <th>bachelor's degree</th>\n",
       "      <td>3</td>\n",
       "      <td>11</td>\n",
       "      <td>26</td>\n",
       "      <td>13</td>\n",
       "      <td>10</td>\n",
       "      <td>9</td>\n",
       "      <td>9</td>\n",
       "      <td>14</td>\n",
       "      <td>15</td>\n",
       "      <td>8</td>\n",
       "    </tr>\n",
       "    <tr>\n",
       "      <th>high school</th>\n",
       "      <td>7</td>\n",
       "      <td>28</td>\n",
       "      <td>30</td>\n",
       "      <td>17</td>\n",
       "      <td>12</td>\n",
       "      <td>11</td>\n",
       "      <td>20</td>\n",
       "      <td>34</td>\n",
       "      <td>27</td>\n",
       "      <td>10</td>\n",
       "    </tr>\n",
       "    <tr>\n",
       "      <th>master's degree</th>\n",
       "      <td>2</td>\n",
       "      <td>5</td>\n",
       "      <td>7</td>\n",
       "      <td>15</td>\n",
       "      <td>7</td>\n",
       "      <td>1</td>\n",
       "      <td>1</td>\n",
       "      <td>12</td>\n",
       "      <td>8</td>\n",
       "      <td>1</td>\n",
       "    </tr>\n",
       "    <tr>\n",
       "      <th>some college</th>\n",
       "      <td>8</td>\n",
       "      <td>15</td>\n",
       "      <td>44</td>\n",
       "      <td>35</td>\n",
       "      <td>16</td>\n",
       "      <td>10</td>\n",
       "      <td>22</td>\n",
       "      <td>25</td>\n",
       "      <td>32</td>\n",
       "      <td>19</td>\n",
       "    </tr>\n",
       "    <tr>\n",
       "      <th>some high school</th>\n",
       "      <td>10</td>\n",
       "      <td>22</td>\n",
       "      <td>28</td>\n",
       "      <td>25</td>\n",
       "      <td>6</td>\n",
       "      <td>14</td>\n",
       "      <td>16</td>\n",
       "      <td>21</td>\n",
       "      <td>25</td>\n",
       "      <td>12</td>\n",
       "    </tr>\n",
       "  </tbody>\n",
       "</table>\n",
       "</div>"
      ],
      "text/plain": [
       "gender                       female                                    male  \\\n",
       "race/ethnicity              group A group B group C group D group E group A   \n",
       "parental level of education                                                   \n",
       "associate's degree                6      23      45      24      18       8   \n",
       "bachelor's degree                 3      11      26      13      10       9   \n",
       "high school                       7      28      30      17      12      11   \n",
       "master's degree                   2       5       7      15       7       1   \n",
       "some college                      8      15      44      35      16      10   \n",
       "some high school                 10      22      28      25       6      14   \n",
       "\n",
       "gender                                                       \n",
       "race/ethnicity              group B group C group D group E  \n",
       "parental level of education                                  \n",
       "associate's degree               18      33      26      21  \n",
       "bachelor's degree                 9      14      15       8  \n",
       "high school                      20      34      27      10  \n",
       "master's degree                   1      12       8       1  \n",
       "some college                     22      25      32      19  \n",
       "some high school                 16      21      25      12  "
      ]
     },
     "execution_count": 84,
     "metadata": {},
     "output_type": "execute_result"
    }
   ],
   "source": [
    "# 3-way table\n",
    "pd.crosstab(df[\"parental level of education\"], [df[\"gender\"], df[\"race/ethnicity\"]])"
   ]
  },
  {
   "cell_type": "markdown",
   "id": "a4bb603b",
   "metadata": {},
   "source": [
    "#### Side by Side Barplot<a name=\"4.4.2\"></a>"
   ]
  },
  {
   "cell_type": "markdown",
   "id": "a6d5d1e0",
   "metadata": {},
   "source": [
    "- Side by side barplot can be used to visualize the contingency table\n",
    "- Can be plotted using `catplot` function from `seaborn` where the parameter `kind`=`count`, and `hue` is specified as another categorical variable"
   ]
  },
  {
   "cell_type": "code",
   "execution_count": 85,
   "id": "b4099e04",
   "metadata": {},
   "outputs": [
    {
     "data": {
      "image/png": "[encoded data removed]",
      "text/plain": [
       "<Figure size 416.1x288 with 1 Axes>"
      ]
     },
     "metadata": {
      "needs_background": "light"
     },
     "output_type": "display_data"
    }
   ],
   "source": [
    "# Side by side barplot of the 2-way contingency table above\n",
    "fig = sns.catplot(\n",
    "    data=df.sort_values(\"race/ethnicity\"),\n",
    "    x=\"race/ethnicity\",\n",
    "    hue=\"gender\",\n",
    "    kind=\"count\",\n",
    "    height=4,\n",
    "    aspect=1.2,\n",
    ")\n",
    "fig.set(title=\"Number of students by gender and race/ethnicity\")\n",
    "plt.show()"
   ]
  },
  {
   "cell_type": "markdown",
   "id": "e6e64fa9",
   "metadata": {},
   "source": [
    "We can notice that the students from this high school are mostly comprised of group C female and there are fewest number of group A female."
   ]
  },
  {
   "cell_type": "markdown",
   "id": "b515b3d0",
   "metadata": {},
   "source": [
    "### Multivariate  Analysis: Categorical vs Continuous Variables<a name=\"4.5\"></a>"
   ]
  },
  {
   "cell_type": "markdown",
   "id": "97bcad5a",
   "metadata": {},
   "source": [
    "#### Side by Side Boxplot<a name=\"4.5.1\"></a>"
   ]
  },
  {
   "cell_type": "markdown",
   "id": "c0c43941",
   "metadata": {},
   "source": [
    "- A straightforward way to compare the distributions of a continuous variable grouped by a categorical variable.\n",
    "- Can be plotted using `catplot` function from `seaborn` where the parameter `kind`=`box`"
   ]
  },
  {
   "cell_type": "code",
   "execution_count": 86,
   "id": "9a302174",
   "metadata": {},
   "outputs": [
    {
     "data": {
      "image/png": "[encoded data removed]",
      "text/plain": [
       "<Figure size 345.6x288 with 1 Axes>"
      ]
     },
     "metadata": {
      "needs_background": "light"
     },
     "output_type": "display_data"
    }
   ],
   "source": [
    "fig = sns.catplot(\n",
    "    data=df.sort_values(\"race/ethnicity\"),\n",
    "    x=\"race/ethnicity\",\n",
    "    y=\"math score\",\n",
    "    kind=\"box\",\n",
    "    height=4,\n",
    "    aspect=1.2,\n",
    ")\n",
    "plt.tight_layout()\n",
    "plt.show()"
   ]
  },
  {
   "cell_type": "markdown",
   "id": "1b13fab9",
   "metadata": {},
   "source": [
    "We can interpret that group E obtained the highest math score than other group in a general sense (by comparing the quartile/distribution)."
   ]
  },
  {
   "cell_type": "markdown",
   "id": "193ab974",
   "metadata": {},
   "source": [
    "- A combination of the boxplot with a density estimation plot\n",
    "- Can be plotted using `catplot` function from `seaborn` where the parameter `kind`=`violin`\n",
    "- The parameter `inner` is set as `quartile` to show the quartile (Q1, median, Q3) as horizontal dash lines"
   ]
  },
  {
   "cell_type": "markdown",
   "id": "6f519366",
   "metadata": {},
   "source": [
    "### Multivariate  Analysis: Multiple Categorical vs Continuous Variables<a name=\"4.6\"></a>"
   ]
  },
  {
   "cell_type": "markdown",
   "id": "542dd3a6",
   "metadata": {},
   "source": [
    "#### Facet Grid<a name=\"4.6.1\"></a>"
   ]
  },
  {
   "cell_type": "markdown",
   "id": "bce4f471",
   "metadata": {},
   "source": [
    "- Helps in visualizing distribution of one variable as well as the relationship between multiple variables separately within subsets of your dataset using multiple panels.\n",
    "- Can be drawn up to three dimensions − **row, col, and hue** (typically categorical variables).\n",
    "- For `seaborn` library, each of `relplot()`, `displot()`, `catplot()`, and `lmplot()` use Facet Grid internally."
   ]
  },
  {
   "cell_type": "code",
   "execution_count": 87,
   "id": "ce7825be",
   "metadata": {},
   "outputs": [
    {
     "data": {
      "image/png": "[encoded data removed]",
      "text/plain": [
       "<Figure size 358.5x288 with 1 Axes>"
      ]
     },
     "metadata": {
      "needs_background": "light"
     },
     "output_type": "display_data"
    }
   ],
   "source": [
    "# Example 1\n",
    "fig = sns.catplot(\n",
    "    x=\"race/ethnicity\",\n",
    "    y=\"math score\",\n",
    "    hue=\"gender\",\n",
    "    kind=\"box\",\n",
    "    data=df.sort_values(\"race/ethnicity\"),\n",
    "    height=4,\n",
    ")\n",
    "plt.show()"
   ]
  },
  {
   "cell_type": "code",
   "execution_count": 88,
   "id": "e8aec7dd",
   "metadata": {},
   "outputs": [
    {
     "data": {
      "image/png": "[encoded data removed]",
      "text/plain": [
       "<Figure size 576x288 with 2 Axes>"
      ]
     },
     "metadata": {
      "needs_background": "light"
     },
     "output_type": "display_data"
    }
   ],
   "source": [
    "# Example 2\n",
    "fig = sns.catplot(\n",
    "    x=\"race/ethnicity\",\n",
    "    y=\"math score\",\n",
    "    col=\"gender\",\n",
    "    kind=\"box\",\n",
    "    data=df.sort_values(\"race/ethnicity\"),\n",
    "    height=4,\n",
    ")\n",
    "\n",
    "plt.show()"
   ]
  },
  {
   "cell_type": "code",
   "execution_count": 89,
   "id": "e88886f5",
   "metadata": {},
   "outputs": [
    {
     "data": {
      "image/png": "[encoded data removed]",
      "text/plain": [
       "<Figure size 1150.5x216 with 5 Axes>"
      ]
     },
     "metadata": {
      "needs_background": "light"
     },
     "output_type": "display_data"
    }
   ],
   "source": [
    "# Example 3\n",
    "# a Facet Grid using relplot()\n",
    "\n",
    "fig = sns.relplot(\n",
    "    data=df.sort_values(\"race/ethnicity\"),\n",
    "    x=\"math score\",\n",
    "    y=\"reading score\",\n",
    "    height=3,\n",
    "    col=\"race/ethnicity\",\n",
    "    hue=\"gender\",\n",
    ")\n",
    "\n",
    "plt.show()"
   ]
  },
  {
   "cell_type": "markdown",
   "id": "3b983167",
   "metadata": {},
   "source": [
    "- We can also use `FacetGrid` function to form dimensions of the grid and then use `map` or `map_dataframe` to visualize data on this grid."
   ]
  },
  {
   "cell_type": "code",
   "execution_count": 90,
   "id": "b5c9dd15",
   "metadata": {},
   "outputs": [
    {
     "data": {
      "text/plain": [
       "'0.11.2'"
      ]
     },
     "execution_count": 90,
     "metadata": {},
     "output_type": "execute_result"
    }
   ],
   "source": [
    "sns.__version__"
   ]
  },
  {
   "cell_type": "markdown",
   "id": "d0dd2f58",
   "metadata": {},
   "source": [
    "## New Sample data"
   ]
  },
  {
   "cell_type": "code",
   "execution_count": 91,
   "id": "f1f6647d",
   "metadata": {},
   "outputs": [],
   "source": [
    "from sklearn import preprocessing"
   ]
  },
  {
   "cell_type": "code",
   "execution_count": 94,
   "id": "ab55722b",
   "metadata": {},
   "outputs": [],
   "source": [
    "# Dataset of employee\n",
    "df2 = pd.DataFrame({\n",
    "    \"Employee ID\" : ['100', '101', '102', '103', '104', '105', '106', '107', '108', '109'],\n",
    "    \"Department\" : [\"Finance\", \"IT\", \"Sales\", \"Human Resource\", \"Finance\", \"IT\", \"Sales\", \"Finance\", \"Sales\", \"IT\"],\n",
    "    \"Age\" : [24, np.nan, 18, 28, 29, 28, 30, 35, np.nan, 35],\n",
    "    \"Gender\" : [\"F\", \"M\", \"F\", \"F\", \"F\", \"M\", \"M\", \"M\", \"F\", \"F\"],\n",
    "    \"Education\" : [\"Diploma\", \"Diploma\", \"SPM\", \"Degree\", \"Degree\", \"SPM\", \"Degree\", \"SPM\", \"Diploma\", \"Degree\"]\n",
    "    })"
   ]
  },
  {
   "cell_type": "code",
   "execution_count": 95,
   "id": "8bc0f2c1",
   "metadata": {},
   "outputs": [
    {
     "data": {
      "text/plain": [
       "pandas.core.frame.DataFrame"
      ]
     },
     "execution_count": 95,
     "metadata": {},
     "output_type": "execute_result"
    }
   ],
   "source": [
    "type(df2)"
   ]
  },
  {
   "cell_type": "code",
   "execution_count": 96,
   "id": "fda3ad2b",
   "metadata": {},
   "outputs": [
    {
     "name": "stdout",
     "output_type": "stream",
     "text": [
      "<class 'pandas.core.frame.DataFrame'>\n",
      "RangeIndex: 10 entries, 0 to 9\n",
      "Data columns (total 5 columns):\n",
      " #   Column       Non-Null Count  Dtype  \n",
      "---  ------       --------------  -----  \n",
      " 0   Employee ID  10 non-null     object \n",
      " 1   Department   10 non-null     object \n",
      " 2   Age          8 non-null      float64\n",
      " 3   Gender       10 non-null     object \n",
      " 4   Education    10 non-null     object \n",
      "dtypes: float64(1), object(4)\n",
      "memory usage: 528.0+ bytes\n"
     ]
    }
   ],
   "source": [
    "df2.info()"
   ]
  },
  {
   "cell_type": "markdown",
   "id": "831701f4",
   "metadata": {},
   "source": [
    "What does the above output sounds like?"
   ]
  },
  {
   "cell_type": "code",
   "execution_count": 105,
   "id": "549bb22f",
   "metadata": {},
   "outputs": [],
   "source": [
    "# Change Employee ID as int data type\n",
    "df2['Employee ID'] = df2['Employee ID'].astype(int)"
   ]
  },
  {
   "cell_type": "markdown",
   "id": "1e9721cd",
   "metadata": {},
   "source": [
    "### Missing Values\n",
    "\n",
    "There are multiple methods to handle missing values:\n",
    "\n",
    "- Delete information that has missing value in it\n",
    "    - Delete entire column\n",
    "    - Delete entire rows\n",
    "- Imputation\n",
    "    - Impute using mean\n",
    "    - Impute using mode\n"
   ]
  },
  {
   "cell_type": "code",
   "execution_count": 106,
   "id": "5897cfcd",
   "metadata": {},
   "outputs": [
    {
     "data": {
      "text/plain": [
       "Employee ID    0\n",
       "Department     0\n",
       "Age            2\n",
       "Gender         0\n",
       "Education      0\n",
       "dtype: int64"
      ]
     },
     "execution_count": 106,
     "metadata": {},
     "output_type": "execute_result"
    }
   ],
   "source": [
    "# Print the value that has missing values\n",
    "df2.isnull().sum()"
   ]
  },
  {
   "cell_type": "markdown",
   "id": "14017dce",
   "metadata": {},
   "source": [
    "## Delete Missing Value"
   ]
  },
  {
   "cell_type": "code",
   "execution_count": 107,
   "id": "bb7882aa",
   "metadata": {},
   "outputs": [],
   "source": [
    "# delete column\n",
    "del_column = df2.dropna(axis=1)"
   ]
  },
  {
   "cell_type": "code",
   "execution_count": 108,
   "id": "bae9c51b",
   "metadata": {},
   "outputs": [
    {
     "data": {
      "text/html": [
       "<div>\n",
       "<style scoped>\n",
       "    .dataframe tbody tr th:only-of-type {\n",
       "        vertical-align: middle;\n",
       "    }\n",
       "\n",
       "    .dataframe tbody tr th {\n",
       "        vertical-align: top;\n",
       "    }\n",
       "\n",
       "    .dataframe thead th {\n",
       "        text-align: right;\n",
       "    }\n",
       "</style>\n",
       "<table border=\"1\" class=\"dataframe\">\n",
       "  <thead>\n",
       "    <tr style=\"text-align: right;\">\n",
       "      <th></th>\n",
       "      <th>Employee ID</th>\n",
       "      <th>Department</th>\n",
       "      <th>Gender</th>\n",
       "      <th>Education</th>\n",
       "    </tr>\n",
       "  </thead>\n",
       "  <tbody>\n",
       "    <tr>\n",
       "      <th>0</th>\n",
       "      <td>100</td>\n",
       "      <td>Finance</td>\n",
       "      <td>F</td>\n",
       "      <td>Diploma</td>\n",
       "    </tr>\n",
       "    <tr>\n",
       "      <th>1</th>\n",
       "      <td>101</td>\n",
       "      <td>IT</td>\n",
       "      <td>M</td>\n",
       "      <td>Diploma</td>\n",
       "    </tr>\n",
       "    <tr>\n",
       "      <th>2</th>\n",
       "      <td>102</td>\n",
       "      <td>Sales</td>\n",
       "      <td>F</td>\n",
       "      <td>SPM</td>\n",
       "    </tr>\n",
       "    <tr>\n",
       "      <th>3</th>\n",
       "      <td>103</td>\n",
       "      <td>Human Resource</td>\n",
       "      <td>F</td>\n",
       "      <td>Degree</td>\n",
       "    </tr>\n",
       "    <tr>\n",
       "      <th>4</th>\n",
       "      <td>104</td>\n",
       "      <td>Finance</td>\n",
       "      <td>F</td>\n",
       "      <td>Degree</td>\n",
       "    </tr>\n",
       "  </tbody>\n",
       "</table>\n",
       "</div>"
      ],
      "text/plain": [
       "   Employee ID      Department Gender Education\n",
       "0          100         Finance      F   Diploma\n",
       "1          101              IT      M   Diploma\n",
       "2          102           Sales      F       SPM\n",
       "3          103  Human Resource      F    Degree\n",
       "4          104         Finance      F    Degree"
      ]
     },
     "execution_count": 108,
     "metadata": {},
     "output_type": "execute_result"
    }
   ],
   "source": [
    "del_column.head()"
   ]
  },
  {
   "cell_type": "code",
   "execution_count": 109,
   "id": "ea3c8bb7",
   "metadata": {},
   "outputs": [],
   "source": [
    "# delete row\n",
    "del_row = df2.dropna(axis=0)"
   ]
  },
  {
   "cell_type": "code",
   "execution_count": 110,
   "id": "d3610ea4",
   "metadata": {},
   "outputs": [
    {
     "data": {
      "text/html": [
       "<div>\n",
       "<style scoped>\n",
       "    .dataframe tbody tr th:only-of-type {\n",
       "        vertical-align: middle;\n",
       "    }\n",
       "\n",
       "    .dataframe tbody tr th {\n",
       "        vertical-align: top;\n",
       "    }\n",
       "\n",
       "    .dataframe thead th {\n",
       "        text-align: right;\n",
       "    }\n",
       "</style>\n",
       "<table border=\"1\" class=\"dataframe\">\n",
       "  <thead>\n",
       "    <tr style=\"text-align: right;\">\n",
       "      <th></th>\n",
       "      <th>Employee ID</th>\n",
       "      <th>Department</th>\n",
       "      <th>Age</th>\n",
       "      <th>Gender</th>\n",
       "      <th>Education</th>\n",
       "    </tr>\n",
       "  </thead>\n",
       "  <tbody>\n",
       "    <tr>\n",
       "      <th>0</th>\n",
       "      <td>100</td>\n",
       "      <td>Finance</td>\n",
       "      <td>24.0</td>\n",
       "      <td>F</td>\n",
       "      <td>Diploma</td>\n",
       "    </tr>\n",
       "    <tr>\n",
       "      <th>2</th>\n",
       "      <td>102</td>\n",
       "      <td>Sales</td>\n",
       "      <td>18.0</td>\n",
       "      <td>F</td>\n",
       "      <td>SPM</td>\n",
       "    </tr>\n",
       "    <tr>\n",
       "      <th>3</th>\n",
       "      <td>103</td>\n",
       "      <td>Human Resource</td>\n",
       "      <td>28.0</td>\n",
       "      <td>F</td>\n",
       "      <td>Degree</td>\n",
       "    </tr>\n",
       "    <tr>\n",
       "      <th>4</th>\n",
       "      <td>104</td>\n",
       "      <td>Finance</td>\n",
       "      <td>29.0</td>\n",
       "      <td>F</td>\n",
       "      <td>Degree</td>\n",
       "    </tr>\n",
       "    <tr>\n",
       "      <th>5</th>\n",
       "      <td>105</td>\n",
       "      <td>IT</td>\n",
       "      <td>28.0</td>\n",
       "      <td>M</td>\n",
       "      <td>SPM</td>\n",
       "    </tr>\n",
       "  </tbody>\n",
       "</table>\n",
       "</div>"
      ],
      "text/plain": [
       "   Employee ID      Department   Age Gender Education\n",
       "0          100         Finance  24.0      F   Diploma\n",
       "2          102           Sales  18.0      F       SPM\n",
       "3          103  Human Resource  28.0      F    Degree\n",
       "4          104         Finance  29.0      F    Degree\n",
       "5          105              IT  28.0      M       SPM"
      ]
     },
     "execution_count": 110,
     "metadata": {},
     "output_type": "execute_result"
    }
   ],
   "source": [
    "del_row.head()"
   ]
  },
  {
   "cell_type": "markdown",
   "id": "5ede75b4",
   "metadata": {},
   "source": [
    "## Imputing Missing value\n",
    "\n",
    "Imputation\n",
    "Replace missing data with statistical estimates or frequently occured value of the variable.\n",
    "\n",
    "- Numerical value:\n",
    "    - Mean\n",
    "    - Mode\n",
    "    - Median\n",
    "    \n",
    "- Categorical value:\n",
    "    - Frequently use value or mode imputation.\n",
    "    - Adding a \"missing\"/\"unknown\" category.\n",
    "    \n",
    "In this exercise we will show on how to impute missing values by using mean or mode."
   ]
  },
  {
   "cell_type": "code",
   "execution_count": 111,
   "id": "5cee48d8",
   "metadata": {},
   "outputs": [
    {
     "name": "stderr",
     "output_type": "stream",
     "text": [
      "/tmp/ipykernel_6083/2906448619.py:2: FutureWarning: Dropping of nuisance columns in DataFrame reductions (with 'numeric_only=None') is deprecated; in a future version this will raise TypeError.  Select only valid columns before calling the reduction.\n",
      "  mean = df2.fillna(df.mean().astype(int))\n"
     ]
    }
   ],
   "source": [
    "# filling with mean\n",
    "mean = df2.fillna(df.mean().astype(int)) "
   ]
  },
  {
   "cell_type": "code",
   "execution_count": 112,
   "id": "09c8c9f4",
   "metadata": {},
   "outputs": [
    {
     "data": {
      "text/html": [
       "<div>\n",
       "<style scoped>\n",
       "    .dataframe tbody tr th:only-of-type {\n",
       "        vertical-align: middle;\n",
       "    }\n",
       "\n",
       "    .dataframe tbody tr th {\n",
       "        vertical-align: top;\n",
       "    }\n",
       "\n",
       "    .dataframe thead th {\n",
       "        text-align: right;\n",
       "    }\n",
       "</style>\n",
       "<table border=\"1\" class=\"dataframe\">\n",
       "  <thead>\n",
       "    <tr style=\"text-align: right;\">\n",
       "      <th></th>\n",
       "      <th>Employee ID</th>\n",
       "      <th>Department</th>\n",
       "      <th>Age</th>\n",
       "      <th>Gender</th>\n",
       "      <th>Education</th>\n",
       "    </tr>\n",
       "  </thead>\n",
       "  <tbody>\n",
       "    <tr>\n",
       "      <th>0</th>\n",
       "      <td>100</td>\n",
       "      <td>Finance</td>\n",
       "      <td>24.0</td>\n",
       "      <td>F</td>\n",
       "      <td>Diploma</td>\n",
       "    </tr>\n",
       "    <tr>\n",
       "      <th>1</th>\n",
       "      <td>101</td>\n",
       "      <td>IT</td>\n",
       "      <td>28.0</td>\n",
       "      <td>M</td>\n",
       "      <td>Diploma</td>\n",
       "    </tr>\n",
       "    <tr>\n",
       "      <th>2</th>\n",
       "      <td>102</td>\n",
       "      <td>Sales</td>\n",
       "      <td>18.0</td>\n",
       "      <td>F</td>\n",
       "      <td>SPM</td>\n",
       "    </tr>\n",
       "    <tr>\n",
       "      <th>3</th>\n",
       "      <td>103</td>\n",
       "      <td>Human Resource</td>\n",
       "      <td>28.0</td>\n",
       "      <td>F</td>\n",
       "      <td>Degree</td>\n",
       "    </tr>\n",
       "    <tr>\n",
       "      <th>4</th>\n",
       "      <td>104</td>\n",
       "      <td>Finance</td>\n",
       "      <td>29.0</td>\n",
       "      <td>F</td>\n",
       "      <td>Degree</td>\n",
       "    </tr>\n",
       "  </tbody>\n",
       "</table>\n",
       "</div>"
      ],
      "text/plain": [
       "   Employee ID      Department   Age Gender Education\n",
       "0          100         Finance  24.0      F   Diploma\n",
       "1          101              IT  28.0      M   Diploma\n",
       "2          102           Sales  18.0      F       SPM\n",
       "3          103  Human Resource  28.0      F    Degree\n",
       "4          104         Finance  29.0      F    Degree"
      ]
     },
     "execution_count": 112,
     "metadata": {},
     "output_type": "execute_result"
    }
   ],
   "source": [
    "mean.head()"
   ]
  },
  {
   "cell_type": "code",
   "execution_count": 113,
   "id": "15d20724",
   "metadata": {},
   "outputs": [],
   "source": [
    "# filling with mode\n",
    "mode = df2.fillna(df2.mode())"
   ]
  },
  {
   "cell_type": "code",
   "execution_count": 114,
   "id": "d00cb129",
   "metadata": {},
   "outputs": [
    {
     "data": {
      "text/html": [
       "<div>\n",
       "<style scoped>\n",
       "    .dataframe tbody tr th:only-of-type {\n",
       "        vertical-align: middle;\n",
       "    }\n",
       "\n",
       "    .dataframe tbody tr th {\n",
       "        vertical-align: top;\n",
       "    }\n",
       "\n",
       "    .dataframe thead th {\n",
       "        text-align: right;\n",
       "    }\n",
       "</style>\n",
       "<table border=\"1\" class=\"dataframe\">\n",
       "  <thead>\n",
       "    <tr style=\"text-align: right;\">\n",
       "      <th></th>\n",
       "      <th>Employee ID</th>\n",
       "      <th>Department</th>\n",
       "      <th>Age</th>\n",
       "      <th>Gender</th>\n",
       "      <th>Education</th>\n",
       "    </tr>\n",
       "  </thead>\n",
       "  <tbody>\n",
       "    <tr>\n",
       "      <th>0</th>\n",
       "      <td>100</td>\n",
       "      <td>Finance</td>\n",
       "      <td>24.0</td>\n",
       "      <td>F</td>\n",
       "      <td>Diploma</td>\n",
       "    </tr>\n",
       "    <tr>\n",
       "      <th>1</th>\n",
       "      <td>101</td>\n",
       "      <td>IT</td>\n",
       "      <td>35.0</td>\n",
       "      <td>M</td>\n",
       "      <td>Diploma</td>\n",
       "    </tr>\n",
       "    <tr>\n",
       "      <th>2</th>\n",
       "      <td>102</td>\n",
       "      <td>Sales</td>\n",
       "      <td>18.0</td>\n",
       "      <td>F</td>\n",
       "      <td>SPM</td>\n",
       "    </tr>\n",
       "    <tr>\n",
       "      <th>3</th>\n",
       "      <td>103</td>\n",
       "      <td>Human Resource</td>\n",
       "      <td>28.0</td>\n",
       "      <td>F</td>\n",
       "      <td>Degree</td>\n",
       "    </tr>\n",
       "    <tr>\n",
       "      <th>4</th>\n",
       "      <td>104</td>\n",
       "      <td>Finance</td>\n",
       "      <td>29.0</td>\n",
       "      <td>F</td>\n",
       "      <td>Degree</td>\n",
       "    </tr>\n",
       "  </tbody>\n",
       "</table>\n",
       "</div>"
      ],
      "text/plain": [
       "   Employee ID      Department   Age Gender Education\n",
       "0          100         Finance  24.0      F   Diploma\n",
       "1          101              IT  35.0      M   Diploma\n",
       "2          102           Sales  18.0      F       SPM\n",
       "3          103  Human Resource  28.0      F    Degree\n",
       "4          104         Finance  29.0      F    Degree"
      ]
     },
     "execution_count": 114,
     "metadata": {},
     "output_type": "execute_result"
    }
   ],
   "source": [
    "mode.head()"
   ]
  },
  {
   "cell_type": "code",
   "execution_count": 115,
   "id": "b046a166",
   "metadata": {},
   "outputs": [
    {
     "data": {
      "text/html": [
       "<div>\n",
       "<style scoped>\n",
       "    .dataframe tbody tr th:only-of-type {\n",
       "        vertical-align: middle;\n",
       "    }\n",
       "\n",
       "    .dataframe tbody tr th {\n",
       "        vertical-align: top;\n",
       "    }\n",
       "\n",
       "    .dataframe thead th {\n",
       "        text-align: right;\n",
       "    }\n",
       "</style>\n",
       "<table border=\"1\" class=\"dataframe\">\n",
       "  <thead>\n",
       "    <tr style=\"text-align: right;\">\n",
       "      <th></th>\n",
       "      <th>Employee ID</th>\n",
       "      <th>Department</th>\n",
       "      <th>Age</th>\n",
       "      <th>Gender</th>\n",
       "      <th>Education</th>\n",
       "    </tr>\n",
       "  </thead>\n",
       "  <tbody>\n",
       "    <tr>\n",
       "      <th>0</th>\n",
       "      <td>100</td>\n",
       "      <td>Finance</td>\n",
       "      <td>24.0</td>\n",
       "      <td>F</td>\n",
       "      <td>Diploma</td>\n",
       "    </tr>\n",
       "    <tr>\n",
       "      <th>1</th>\n",
       "      <td>101</td>\n",
       "      <td>IT</td>\n",
       "      <td>35.0</td>\n",
       "      <td>M</td>\n",
       "      <td>Diploma</td>\n",
       "    </tr>\n",
       "    <tr>\n",
       "      <th>2</th>\n",
       "      <td>102</td>\n",
       "      <td>Sales</td>\n",
       "      <td>18.0</td>\n",
       "      <td>F</td>\n",
       "      <td>SPM</td>\n",
       "    </tr>\n",
       "    <tr>\n",
       "      <th>3</th>\n",
       "      <td>103</td>\n",
       "      <td>Human Resource</td>\n",
       "      <td>28.0</td>\n",
       "      <td>F</td>\n",
       "      <td>Degree</td>\n",
       "    </tr>\n",
       "    <tr>\n",
       "      <th>4</th>\n",
       "      <td>104</td>\n",
       "      <td>Finance</td>\n",
       "      <td>29.0</td>\n",
       "      <td>F</td>\n",
       "      <td>Degree</td>\n",
       "    </tr>\n",
       "  </tbody>\n",
       "</table>\n",
       "</div>"
      ],
      "text/plain": [
       "   Employee ID      Department   Age Gender Education\n",
       "0          100         Finance  24.0      F   Diploma\n",
       "1          101              IT  35.0      M   Diploma\n",
       "2          102           Sales  18.0      F       SPM\n",
       "3          103  Human Resource  28.0      F    Degree\n",
       "4          104         Finance  29.0      F    Degree"
      ]
     },
     "execution_count": 115,
     "metadata": {},
     "output_type": "execute_result"
    }
   ],
   "source": [
    "mode.head()"
   ]
  },
  {
   "cell_type": "markdown",
   "id": "b5cfcebe",
   "metadata": {},
   "source": [
    "## Categorical data\n",
    "\n",
    "Carry out feature engineering process on binary, nominal and ordinal categorical column."
   ]
  },
  {
   "cell_type": "code",
   "execution_count": 116,
   "id": "93833555",
   "metadata": {},
   "outputs": [
    {
     "name": "stdout",
     "output_type": "stream",
     "text": [
      "Column: Department\n",
      "['Finance' 'IT' 'Sales' 'Human Resource']\n",
      "Column: Gender\n",
      "['F' 'M']\n",
      "Column: Education\n",
      "['Diploma' 'SPM' 'Degree']\n"
     ]
    }
   ],
   "source": [
    "# Print unique value of cat_df\n",
    "for i in df2.columns:\n",
    "    if df2.dtypes[i] == 'object':\n",
    "        print(\"Column: {}\".format(i))\n",
    "        print(df2[i].unique())"
   ]
  },
  {
   "cell_type": "markdown",
   "id": "d13a4b42",
   "metadata": {},
   "source": [
    "### Binary Data\n",
    "Perform one-hot encoding by using `pd.get_dummies`. It converts categorical variable into dummy/indicator variables for each category.\n",
    "\n",
    "The column for the first category of our data will be removed by using the drop_first=True because it will contain the same information as the new column of the second category or for multiple categories, its information will be captured in the rest of the columns. It will be removed to prevent data redundancy in out dataset."
   ]
  },
  {
   "cell_type": "code",
   "execution_count": 117,
   "id": "8ca7f37d",
   "metadata": {},
   "outputs": [],
   "source": [
    "df2 = pd.get_dummies(data=df2, columns=['Gender'], drop_first=True)"
   ]
  },
  {
   "cell_type": "code",
   "execution_count": 118,
   "id": "d8d2fcf6",
   "metadata": {},
   "outputs": [],
   "source": [
    "df2 = df2.rename(columns={\"Gender_M\":\"Gender\"})"
   ]
  },
  {
   "cell_type": "code",
   "execution_count": 119,
   "id": "93b0c6bf",
   "metadata": {},
   "outputs": [
    {
     "data": {
      "text/html": [
       "<div>\n",
       "<style scoped>\n",
       "    .dataframe tbody tr th:only-of-type {\n",
       "        vertical-align: middle;\n",
       "    }\n",
       "\n",
       "    .dataframe tbody tr th {\n",
       "        vertical-align: top;\n",
       "    }\n",
       "\n",
       "    .dataframe thead th {\n",
       "        text-align: right;\n",
       "    }\n",
       "</style>\n",
       "<table border=\"1\" class=\"dataframe\">\n",
       "  <thead>\n",
       "    <tr style=\"text-align: right;\">\n",
       "      <th></th>\n",
       "      <th>Employee ID</th>\n",
       "      <th>Department</th>\n",
       "      <th>Age</th>\n",
       "      <th>Education</th>\n",
       "      <th>Gender</th>\n",
       "    </tr>\n",
       "  </thead>\n",
       "  <tbody>\n",
       "    <tr>\n",
       "      <th>0</th>\n",
       "      <td>100</td>\n",
       "      <td>Finance</td>\n",
       "      <td>24.0</td>\n",
       "      <td>Diploma</td>\n",
       "      <td>0</td>\n",
       "    </tr>\n",
       "    <tr>\n",
       "      <th>1</th>\n",
       "      <td>101</td>\n",
       "      <td>IT</td>\n",
       "      <td>NaN</td>\n",
       "      <td>Diploma</td>\n",
       "      <td>1</td>\n",
       "    </tr>\n",
       "    <tr>\n",
       "      <th>2</th>\n",
       "      <td>102</td>\n",
       "      <td>Sales</td>\n",
       "      <td>18.0</td>\n",
       "      <td>SPM</td>\n",
       "      <td>0</td>\n",
       "    </tr>\n",
       "    <tr>\n",
       "      <th>3</th>\n",
       "      <td>103</td>\n",
       "      <td>Human Resource</td>\n",
       "      <td>28.0</td>\n",
       "      <td>Degree</td>\n",
       "      <td>0</td>\n",
       "    </tr>\n",
       "    <tr>\n",
       "      <th>4</th>\n",
       "      <td>104</td>\n",
       "      <td>Finance</td>\n",
       "      <td>29.0</td>\n",
       "      <td>Degree</td>\n",
       "      <td>0</td>\n",
       "    </tr>\n",
       "  </tbody>\n",
       "</table>\n",
       "</div>"
      ],
      "text/plain": [
       "   Employee ID      Department   Age Education  Gender\n",
       "0          100         Finance  24.0   Diploma       0\n",
       "1          101              IT   NaN   Diploma       1\n",
       "2          102           Sales  18.0       SPM       0\n",
       "3          103  Human Resource  28.0    Degree       0\n",
       "4          104         Finance  29.0    Degree       0"
      ]
     },
     "execution_count": 119,
     "metadata": {},
     "output_type": "execute_result"
    }
   ],
   "source": [
    "df2.head()"
   ]
  },
  {
   "cell_type": "markdown",
   "id": "42820855",
   "metadata": {},
   "source": [
    "Take a quick look on Gender column, value 1 represents male and 0 represents female."
   ]
  },
  {
   "cell_type": "markdown",
   "id": "3035d213",
   "metadata": {},
   "source": [
    "## Nominal Data\n",
    "They are two methods to perform feature engineering for nominal data:\n",
    "\n",
    "### Label Encoding\n"
   ]
  },
  {
   "cell_type": "code",
   "execution_count": 120,
   "id": "2c1ad84f",
   "metadata": {},
   "outputs": [],
   "source": [
    "# make a copy of our data\n",
    "df_encode = df2.copy()"
   ]
  },
  {
   "cell_type": "code",
   "execution_count": 121,
   "id": "fcb9e2e6",
   "metadata": {},
   "outputs": [],
   "source": [
    "label_encoder = preprocessing.LabelEncoder()"
   ]
  },
  {
   "cell_type": "code",
   "execution_count": 122,
   "id": "d691fdf5",
   "metadata": {},
   "outputs": [],
   "source": [
    "df_encode['Department'] = label_encoder.fit_transform(df_encode['Department'])"
   ]
  },
  {
   "cell_type": "code",
   "execution_count": 123,
   "id": "898cee10",
   "metadata": {},
   "outputs": [
    {
     "data": {
      "text/html": [
       "<div>\n",
       "<style scoped>\n",
       "    .dataframe tbody tr th:only-of-type {\n",
       "        vertical-align: middle;\n",
       "    }\n",
       "\n",
       "    .dataframe tbody tr th {\n",
       "        vertical-align: top;\n",
       "    }\n",
       "\n",
       "    .dataframe thead th {\n",
       "        text-align: right;\n",
       "    }\n",
       "</style>\n",
       "<table border=\"1\" class=\"dataframe\">\n",
       "  <thead>\n",
       "    <tr style=\"text-align: right;\">\n",
       "      <th></th>\n",
       "      <th>Employee ID</th>\n",
       "      <th>Department</th>\n",
       "      <th>Age</th>\n",
       "      <th>Education</th>\n",
       "      <th>Gender</th>\n",
       "    </tr>\n",
       "  </thead>\n",
       "  <tbody>\n",
       "    <tr>\n",
       "      <th>0</th>\n",
       "      <td>100</td>\n",
       "      <td>0</td>\n",
       "      <td>24.0</td>\n",
       "      <td>Diploma</td>\n",
       "      <td>0</td>\n",
       "    </tr>\n",
       "    <tr>\n",
       "      <th>1</th>\n",
       "      <td>101</td>\n",
       "      <td>2</td>\n",
       "      <td>NaN</td>\n",
       "      <td>Diploma</td>\n",
       "      <td>1</td>\n",
       "    </tr>\n",
       "    <tr>\n",
       "      <th>2</th>\n",
       "      <td>102</td>\n",
       "      <td>3</td>\n",
       "      <td>18.0</td>\n",
       "      <td>SPM</td>\n",
       "      <td>0</td>\n",
       "    </tr>\n",
       "    <tr>\n",
       "      <th>3</th>\n",
       "      <td>103</td>\n",
       "      <td>1</td>\n",
       "      <td>28.0</td>\n",
       "      <td>Degree</td>\n",
       "      <td>0</td>\n",
       "    </tr>\n",
       "    <tr>\n",
       "      <th>4</th>\n",
       "      <td>104</td>\n",
       "      <td>0</td>\n",
       "      <td>29.0</td>\n",
       "      <td>Degree</td>\n",
       "      <td>0</td>\n",
       "    </tr>\n",
       "  </tbody>\n",
       "</table>\n",
       "</div>"
      ],
      "text/plain": [
       "   Employee ID  Department   Age Education  Gender\n",
       "0          100           0  24.0   Diploma       0\n",
       "1          101           2   NaN   Diploma       1\n",
       "2          102           3  18.0       SPM       0\n",
       "3          103           1  28.0    Degree       0\n",
       "4          104           0  29.0    Degree       0"
      ]
     },
     "execution_count": 123,
     "metadata": {},
     "output_type": "execute_result"
    }
   ],
   "source": [
    "df_encode.head()"
   ]
  },
  {
   "cell_type": "markdown",
   "id": "cd8ea3f1",
   "metadata": {},
   "source": [
    "Here are some official discussion on `sns.histplot` legend:\n",
    "- [Notes on ongoing legend challenges](https://github.com/mwaskom/seaborn/issues/2231)\n",
    "- [Not clear how to reposition seaborn.histplot legend](https://github.com/mwaskom/seaborn/issues/2280)\n",
    "\n",
    "And the developers of `seaborn` have implemented a new feature `move_legend` convenience function for repositioning the legend at [`v0.11.2`](https://github.com/mwaskom/seaborn/releases/tag/v0.11.2). You may have a try on it if you have updated `seaborn` to that version and above."
   ]
  },
  {
   "cell_type": "markdown",
   "id": "d1ff658f",
   "metadata": {},
   "source": [
    "## References<a name=\"5.0\"></a>\n",
    "1. https://github.com/gedeck/practical-statistics-for-data-scientists/blob/master/python/notebooks/Chapter%201%20-%20Exploratory%20Data%20Analysis.ipynb\n",
    "2. https://github.com/nitinkaushik01/Data_Science_Bootcamp/blob/master/Uni-Variate_and_Bi-Variate_Analysis_Various_Techniques.ipynb\n",
    "3. https://www.kaggle.com/spscientist/students-performance-in-exams (data source)"
   ]
  }
 ],
 "metadata": {
  "kernelspec": {
   "display_name": "Python 3 (ipykernel)",
   "language": "python",
   "name": "python3"
  },
  "language_info": {
   "codemirror_mode": {
    "name": "ipython",
    "version": 3
   },
   "file_extension": ".py",
   "mimetype": "text/x-python",
   "name": "python",
   "nbconvert_exporter": "python",
   "pygments_lexer": "ipython3",
   "version": "3.9.7"
  }
 },
 "nbformat": 4,
 "nbformat_minor": 5
}
